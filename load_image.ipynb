{
  "nbformat": 4,
  "nbformat_minor": 0,
  "metadata": {
    "colab": {
      "provenance": [],
      "authorship_tag": "ABX9TyP0FGboheEYTC+N+pd1NXSr",
      "include_colab_link": true
    },
    "kernelspec": {
      "name": "python3",
      "display_name": "Python 3"
    },
    "language_info": {
      "name": "python"
    }
  },
  "cells": [
    {
      "cell_type": "markdown",
      "metadata": {
        "id": "view-in-github",
        "colab_type": "text"
      },
      "source": [
        "<a href=\"https://colab.research.google.com/github/dr77aon/NeuralBlend/blob/main/load_image.ipynb\" target=\"_parent\"><img src=\"https://colab.research.google.com/assets/colab-badge.svg\" alt=\"Open In Colab\"/></a>"
      ]
    },
    {
      "cell_type": "code",
      "execution_count": null,
      "metadata": {
        "id": "t1yg_6S_7wHg"
      },
      "outputs": [],
      "source": [
        "import cv2\n",
        "import requests\n",
        "import numpy as np\n",
        "from io import BytesIO"
      ]
    },
    {
      "cell_type": "code",
      "source": [
        "def load_image_from_url(url):\n",
        "    response = requests.get(url)\n",
        "    image_data = np.frombuffer(response.content, np.uint8)\n",
        "    image = cv2.imdecode(image_data, cv2.IMREAD_COLOR)\n",
        "    return image"
      ],
      "metadata": {
        "id": "VHkjHzNJ8H2x"
      },
      "execution_count": null,
      "outputs": []
    }
  ]
}